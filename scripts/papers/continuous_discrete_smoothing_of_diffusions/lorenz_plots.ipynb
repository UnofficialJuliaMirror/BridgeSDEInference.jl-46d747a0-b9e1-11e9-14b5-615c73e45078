{
 "cells": [
  {
   "cell_type": "code",
   "execution_count": 44,
   "metadata": {
    "collapsed": false
   },
   "outputs": [],
   "source": [
    "import matplotlib.pyplot as plt\n",
    "import numpy as np\n",
    "import os\n",
    "import pandas as pd\n",
    "import matplotlib.gridspec as gridspec\n",
    "\n",
    "OUT_DIR = os.path.join(\"..\", \"..\", \"..\", \"output\")\n",
    "FILENAMES = [[\"many_obs_medium_blocks.csv\",\n",
    "              \"many_obs_medium_blocks_paths.csv\",\n",
    "              \"many_obs_medium_blocks_chain.csv\"],\n",
    "             [\"many_obs_medium_blocks.csv\",\n",
    "              \"many_obs_medium_blocks_paths.csv\",\n",
    "              \"many_obs_medium_blocks_chain.csv\"],\n",
    "             [\"many_obs_medium_blocks.csv\",\n",
    "              \"many_obs_medium_blocks_paths.csv\",\n",
    "              \"many_obs_medium_blocks_chain.csv\"]\n",
    "             ]"
   ]
  },
  {
   "cell_type": "code",
   "execution_count": 45,
   "metadata": {
    "collapsed": false
   },
   "outputs": [],
   "source": [
    "TRUE_VAL_AT_TWO = [2.812, 5.137, 14.305]\n",
    "TRUE_PARAM = [10.0, 28.0, 8.0/3.0, 3.0]"
   ]
  },
  {
   "cell_type": "code",
   "execution_count": null,
   "metadata": {
    "collapsed": false,
    "scrolled": false
   },
   "outputs": [],
   "source": [
    "def plot_results(filenames, i_range_from, i_range_to):\n",
    "    fig = plt.figure(tight_layout=True, figsize=(15,20))\n",
    "    gs = gridspec.GridSpec(10, 12)\n",
    "    ax = set_up_axes(fig, gs)\n",
    "    for i in range(3):\n",
    "        plot_results_of_a_run(ax[i], ax[-1], filenames[i], i_range_from, i_range_to)\n",
    "    plt.show()\n",
    "\n",
    "def set_up_axes(fig, gs):\n",
    "    ax = [[] for i in range(4)]\n",
    "    for i in range(3):\n",
    "        ax[i].append(fig.add_subplot(gs[0:3,3*i:(3*i+3)]))\n",
    "        for j in range(7):\n",
    "            if i == 0 and j == 0:\n",
    "                sharex = None\n",
    "                sharey = None\n",
    "            elif j == 0:\n",
    "                sharex = None\n",
    "                sharey = ax[0][1]\n",
    "            elif i == 0:\n",
    "                sharex = ax[0][1]\n",
    "                sharey = None\n",
    "            else:\n",
    "                sharex = ax[i][1]\n",
    "                sharey = ax[0][j+1]\n",
    "            ax[i].append(fig.add_subplot(gs[3+j,3*i:(3*i+3)],sharex=sharex,sharey=sharey))\n",
    "    for j in range(7):\n",
    "        ax[3].append(fig.add_subplot(gs[3+j,9:12]))\n",
    "    return ax\n",
    "    \n",
    "        \n",
    "def plot_results_of_a_run(ax, ax_acf, filename, i_range_from, i_range_to):\n",
    "    data = pd.read_csv(os.path.join(OUT_DIR, filename[0]))\n",
    "    tp = np.array(data.iloc[len(data)//2,:])\n",
    "    for i in range(3):\n",
    "        xx = tp[1+i:-1:3][i_range_from:i_range_to]\n",
    "        ax[1+i].plot(xx, color=\"steelblue\", linewidth=0.5)\n",
    "        xlims = ax[1+i].get_xlim()\n",
    "        ax[1+i].plot(xlims, [TRUE_VAL_AT_TWO[i], TRUE_VAL_AT_TWO[i]],\n",
    "                linestyle=\"dashed\", color=\"black\")\n",
    "        ax[1+i].set_xlim(xlims)\n",
    "        \n",
    "    data = pd.read_csv(os.path.join(OUT_DIR, filename[2]))\n",
    "    for i in range(4):\n",
    "        xx = data.iloc[:,i][i_range_from:i_range_to]\n",
    "        ax[4+i].plot(xx, color=\"steelblue\", linewidth=0.5)\n",
    "        xlims = ax[4+i].get_xlim()\n",
    "        ax[4+i].plot(xlims, [TRUE_PARAM[i], TRUE_PARAM[i]],\n",
    "                     linestyle=\"dashed\", color=\"black\")\n",
    "        ax[4+i].set_xlim(xlims)\n",
    "\n",
    "plot_results(FILENAMES, 100, 201)\n",
    "#data = pd.read_csv(os.path.join(OUT_DIR, FILENAMES[0]))\n",
    "#tp = np.array(data.iloc[len(data)//2,:])\n",
    "#for i in range(3):\n",
    "#    ax = fig.add_subplot(gs[3+i,0:3])\n",
    "#    xx = tp[1+i:-1:3]\n",
    "#    ax.plot(xx, color=\"steelblue\", linewidth=0.5)\n",
    "#    ax.plot([0.0, len(xx)], [TRUE_VAL_AT_TWO[i], TRUE_VAL_AT_TWO[i]],\n",
    "#            linestyle=\"dashed\", color=\"black\")\n",
    "\n",
    "#data = pd.read_csv(os.path.join(OUT_DIR, FILENAMES[2]))\n",
    "#for i in range(4):\n",
    "#    ax = fig.add_subplot(gs[6+i,0:3])\n",
    "#    xx = data.iloc[:,i]\n",
    "#    ax.plot(xx, color=\"steelblue\", linewidth=0.5)\n",
    "#    ax.plot([0.0, len(xx)], [TRUE_PARAM[i], TRUE_PARAM[i]],\n",
    "#            linestyle=\"dashed\", color=\"black\")   \n",
    "#plt.show()"
   ]
  },
  {
   "cell_type": "code",
   "execution_count": 73,
   "metadata": {
    "collapsed": false
   },
   "outputs": [
    {
     "data": {
      "text/plain": [
       "30    25.414894\n",
       "31    26.087332\n",
       "32    26.087332\n",
       "33    25.635031\n",
       "34    25.635031\n",
       "35    25.980546\n",
       "36    25.980546\n",
       "37    26.949687\n",
       "38    26.949687\n",
       "39    27.824414\n",
       "40    27.824414\n",
       "41    24.755250\n",
       "42    24.755250\n",
       "43    26.299382\n",
       "44    26.299382\n",
       "45    28.066475\n",
       "46    28.066475\n",
       "47    27.484877\n",
       "48    27.484877\n",
       "49    27.355309\n",
       "Name: x2, dtype: float64"
      ]
     },
     "execution_count": 73,
     "metadata": {},
     "output_type": "execute_result"
    }
   ],
   "source": [
    "data.iloc[:,1][30:50]"
   ]
  },
  {
   "cell_type": "code",
   "execution_count": 12,
   "metadata": {
    "collapsed": false
   },
   "outputs": [
    {
     "data": {
      "text/plain": [
       "100"
      ]
     },
     "execution_count": 12,
     "metadata": {},
     "output_type": "execute_result"
    }
   ],
   "source": [
    "201//2"
   ]
  },
  {
   "cell_type": "code",
   "execution_count": null,
   "metadata": {
    "collapsed": true
   },
   "outputs": [],
   "source": []
  }
 ],
 "metadata": {
  "kernelspec": {
   "display_name": "Python 3",
   "language": "python",
   "name": "python3"
  },
  "language_info": {
   "codemirror_mode": {
    "name": "ipython",
    "version": 3
   },
   "file_extension": ".py",
   "mimetype": "text/x-python",
   "name": "python",
   "nbconvert_exporter": "python",
   "pygments_lexer": "ipython3",
   "version": "3.5.3"
  }
 },
 "nbformat": 4,
 "nbformat_minor": 2
}
